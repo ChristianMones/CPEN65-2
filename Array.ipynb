{
  "nbformat": 4,
  "nbformat_minor": 0,
  "metadata": {
    "colab": {
      "provenance": [],
      "authorship_tag": "ABX9TyMni6fu4IMoRg4T4ZI3OZb3",
      "include_colab_link": true
    },
    "kernelspec": {
      "name": "python3",
      "display_name": "Python 3"
    },
    "language_info": {
      "name": "python"
    }
  },
  "cells": [
    {
      "cell_type": "markdown",
      "metadata": {
        "id": "view-in-github",
        "colab_type": "text"
      },
      "source": [
        "<a href=\"https://colab.research.google.com/github/ChristianMones/CPEN65-2/blob/main/Array.ipynb\" target=\"_parent\"><img src=\"https://colab.research.google.com/assets/colab-badge.svg\" alt=\"Open In Colab\"/></a>"
      ]
    },
    {
      "cell_type": "code",
      "execution_count": 2,
      "metadata": {
        "colab": {
          "base_uri": "https://localhost:8080/"
        },
        "id": "1oaun_uU5Wuh",
        "outputId": "745fd11c-f041-4740-e845-bcd45ea2324e"
      },
      "outputs": [
        {
          "output_type": "stream",
          "name": "stdout",
          "text": [
            "Array[0]= cat\n",
            "Array[1]= dog\n",
            "Array[2]= fish\n"
          ]
        }
      ],
      "source": [
        "#Accessing the elements in an Array\n",
        "animals = [\"cat\",\"dog\",\"fish\"]\n",
        "x=animals[0]\n",
        "y=animals[1]\n",
        "z=animals[2]\n",
        "print(\"Array[0]=\",x)\n",
        "print(\"Array[1]=\",y)\n",
        "print(\"Array[2]=\",z)"
      ]
    },
    {
      "cell_type": "code",
      "source": [
        "#Modifying the element/s in an Array\n",
        "animals = [\"cat\",\"dog\",\"fish\"]\n",
        "animals[0]=\"monkey\"\n",
        "x=animals[0]\n",
        "print(\"Array[0]=\",x)\n",
        "print(animals)\n"
      ],
      "metadata": {
        "colab": {
          "base_uri": "https://localhost:8080/"
        },
        "id": "9eDURREu50es",
        "outputId": "f86d5bf1-d3a7-4895-d720-8fd6d678d5e7"
      },
      "execution_count": 3,
      "outputs": [
        {
          "output_type": "stream",
          "name": "stdout",
          "text": [
            "Array[0]= monkey\n",
            "['monkey', 'dog', 'fish']\n"
          ]
        }
      ]
    },
    {
      "cell_type": "code",
      "source": [
        "#Length of the Array\n",
        "animals = [\"monkey\",\"dog\",\"fish\",\"cat\",\"birds\"]\n",
        "v=len(animals)\n",
        "print(v)"
      ],
      "metadata": {
        "colab": {
          "base_uri": "https://localhost:8080/"
        },
        "id": "PmoJrVB56RUo",
        "outputId": "6466e8b9-a1b3-4008-f7d7-6675ac441ed4"
      },
      "execution_count": 5,
      "outputs": [
        {
          "output_type": "stream",
          "name": "stdout",
          "text": [
            "5\n"
          ]
        }
      ]
    },
    {
      "cell_type": "code",
      "source": [
        "#Looping Array Elements\n",
        "z=0\n",
        "animals = [\"monkey\",\"dog\",\"fish\",\"cat\",\"birds\"]\n",
        "for x in animals:\n",
        "  z=z\n",
        "  print(str(z)+' '+x)\n",
        "  z+=1"
      ],
      "metadata": {
        "colab": {
          "base_uri": "https://localhost:8080/"
        },
        "id": "QtfKFEgF67wV",
        "outputId": "d1df3aaf-f2ef-40e2-a24c-05514cac2b35"
      },
      "execution_count": 18,
      "outputs": [
        {
          "output_type": "stream",
          "name": "stdout",
          "text": [
            "0 monkey\n",
            "1 dog\n",
            "2 fish\n",
            "3 cat\n",
            "4 birds\n"
          ]
        }
      ]
    },
    {
      "cell_type": "code",
      "source": [
        "animals = [\"monkey\",\"dog\",\"fish\",\"cat\",\"birds\"]\n",
        "for index, val in enumerate(animals):\n",
        "  print(index,val)"
      ],
      "metadata": {
        "colab": {
          "base_uri": "https://localhost:8080/"
        },
        "id": "7G_6N7EM82az",
        "outputId": "b333a2a8-b48f-4c50-bd1a-1a8a11c45947"
      },
      "execution_count": 17,
      "outputs": [
        {
          "output_type": "stream",
          "name": "stdout",
          "text": [
            "0 monkey\n",
            "1 dog\n",
            "2 fish\n",
            "3 cat\n",
            "4 birds\n"
          ]
        }
      ]
    },
    {
      "cell_type": "code",
      "source": [
        "#Adding Elements in the Array\n",
        "animals = [\"monkey\",\"dog\",\"fish\",\"cat\",\"birds\"]\n",
        "animals.append(\"lion\")\n",
        "print(animals)"
      ],
      "metadata": {
        "colab": {
          "base_uri": "https://localhost:8080/"
        },
        "id": "EbaY_upQ9Y4_",
        "outputId": "f9fd801d-4d9e-4915-d934-25912dab5d8b"
      },
      "execution_count": 19,
      "outputs": [
        {
          "output_type": "stream",
          "name": "stdout",
          "text": [
            "['monkey', 'dog', 'fish', 'cat', 'birds', 'lion']\n"
          ]
        }
      ]
    },
    {
      "cell_type": "code",
      "source": [
        "#Write a Python program to insert a new item ('11') before in an existing array.\n",
        "#Original array: numbers = [1, 2, 3, 4, 5, 6, 7, 8, 9, 10]\n",
        "numbers=[1, 2, 3, 4, 5, 6, 7, 8, 9, 10]\n",
        "numbers.insert(1,11)\n",
        "print(numbers)"
      ],
      "metadata": {
        "colab": {
          "base_uri": "https://localhost:8080/"
        },
        "id": "0CH_akh-96jU",
        "outputId": "3fb2bf90-db9d-4a18-bd1a-c2fd451a9580"
      },
      "execution_count": 21,
      "outputs": [
        {
          "output_type": "stream",
          "name": "stdout",
          "text": [
            "[1, 11, 2, 3, 4, 5, 6, 7, 8, 9, 10]\n"
          ]
        }
      ]
    },
    {
      "cell_type": "code",
      "source": [
        "#Removing an Element in the Array\n",
        "numbers=[1, 11, 2, 3, 4, 5, 6, 7, 8, 9, 10]\n",
        "print(numbers)\n",
        "numbers.pop(1)\n",
        "print(numbers)"
      ],
      "metadata": {
        "colab": {
          "base_uri": "https://localhost:8080/"
        },
        "id": "9ZJzyU8w-0gC",
        "outputId": "1f1ad29b-3b01-4eca-e7ca-1a70ff760722"
      },
      "execution_count": 26,
      "outputs": [
        {
          "output_type": "stream",
          "name": "stdout",
          "text": [
            "[1, 11, 2, 3, 4, 5, 6, 7, 8, 9, 10]\n",
            "[1, 2, 3, 4, 5, 6, 7, 8, 9, 10]\n"
          ]
        }
      ]
    }
  ]
}