{
  "nbformat": 4,
  "nbformat_minor": 0,
  "metadata": {
    "colab": {
      "provenance": [],
      "collapsed_sections": [],
      "authorship_tag": "ABX9TyOFSMBLBPiA1BWU32IaDCyc",
      "include_colab_link": true
    },
    "kernelspec": {
      "name": "python3",
      "display_name": "Python 3"
    },
    "language_info": {
      "name": "python"
    }
  },
  "cells": [
    {
      "cell_type": "markdown",
      "metadata": {
        "id": "view-in-github",
        "colab_type": "text"
      },
      "source": [
        "<a href=\"https://colab.research.google.com/github/ChristianMones/CPEN65-2/blob/main/Activity_1.ipynb\" target=\"_parent\"><img src=\"https://colab.research.google.com/assets/colab-badge.svg\" alt=\"Open In Colab\"/></a>"
      ]
    },
    {
      "cell_type": "code",
      "execution_count": 1,
      "metadata": {
        "colab": {
          "base_uri": "https://localhost:8080/"
        },
        "id": "OSdPf4iA86-Q",
        "outputId": "3e4725fb-4f11-4413-aa8b-e298618aae70"
      },
      "outputs": [
        {
          "output_type": "stream",
          "name": "stdout",
          "text": [
            "Radius(R) or Diameter(D)? R\n",
            "Input length of radius/diameter:10\n",
            "The area of the circle is 314.0\n"
          ]
        }
      ],
      "source": [
        "b=str(input(\"Radius(R) or Diameter(D)? \"))\n",
        "\n",
        "if b!=\"R\" and b!=\"D\":\n",
        "  print(\"Incorrect response.\")\n",
        "\n",
        "else: \n",
        "  a=float(input(\"Input length of radius/diameter:\"))\n",
        "  if b==\"R\":\n",
        "\n",
        "    print(\"The area of the circle is \" + str(3.14*a**2))\n",
        "\n",
        "  elif b==\"D\":\n",
        "  \n",
        "    print(\"The area of the circle is \" + str(3.14*(a**2)/4))\n",
        "\n",
        "  else:\n",
        "    print()\n",
        "\n",
        "\n",
        "\n"
      ]
    }
  ]
}