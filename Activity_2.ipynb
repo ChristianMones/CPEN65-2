{
  "nbformat": 4,
  "nbformat_minor": 0,
  "metadata": {
    "colab": {
      "provenance": [],
      "collapsed_sections": [],
      "authorship_tag": "ABX9TyPpC/UfhQevh3HmlZiUd+DU",
      "include_colab_link": true
    },
    "kernelspec": {
      "name": "python3",
      "display_name": "Python 3"
    },
    "language_info": {
      "name": "python"
    }
  },
  "cells": [
    {
      "cell_type": "markdown",
      "metadata": {
        "id": "view-in-github",
        "colab_type": "text"
      },
      "source": [
        "<a href=\"https://colab.research.google.com/github/ChristianMones/CPEN65-2/blob/main/Activity_2.ipynb\" target=\"_parent\"><img src=\"https://colab.research.google.com/assets/colab-badge.svg\" alt=\"Open In Colab\"/></a>"
      ]
    },
    {
      "cell_type": "code",
      "execution_count": null,
      "metadata": {
        "id": "H0jilhMYC5zd",
        "colab": {
          "base_uri": "https://localhost:8080/"
        },
        "outputId": "5e962560-0eb1-409b-feb1-bf994e8082d8"
      },
      "outputs": [
        {
          "output_type": "stream",
          "name": "stdout",
          "text": [
            "s\n",
            "e\n",
            "n\n",
            "o\n",
            "M\n",
            " \n",
            "A\n",
            " \n",
            "o\n",
            "l\n",
            "e\n",
            "g\n",
            "n\n",
            "A\n",
            " \n",
            "n\n",
            "a\n",
            "i\n",
            "t\n",
            "s\n",
            "i\n",
            "r\n",
            "h\n",
            "C\n"
          ]
        }
      ],
      "source": [
        "name=['C','h','r','i','s','t','i','a','n',' ','A','n','g','e','l','o',' ','A',' ','M','o','n','e','s']\n",
        "name.reverse()\n",
        "for x in name:\n",
        "  print(x)"
      ]
    }
  ]
}