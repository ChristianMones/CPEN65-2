{
  "nbformat": 4,
  "nbformat_minor": 0,
  "metadata": {
    "colab": {
      "provenance": [],
      "authorship_tag": "ABX9TyMsOOA7XCGEB++nOqFg1jwm",
      "include_colab_link": true
    },
    "kernelspec": {
      "name": "python3",
      "display_name": "Python 3"
    },
    "language_info": {
      "name": "python"
    }
  },
  "cells": [
    {
      "cell_type": "markdown",
      "metadata": {
        "id": "view-in-github",
        "colab_type": "text"
      },
      "source": [
        "<a href=\"https://colab.research.google.com/github/ChristianMones/CPEN65-2/blob/main/Short_Quiz.ipynb\" target=\"_parent\"><img src=\"https://colab.research.google.com/assets/colab-badge.svg\" alt=\"Open In Colab\"/></a>"
      ]
    },
    {
      "cell_type": "code",
      "execution_count": null,
      "metadata": {
        "id": "A5kA0ixDPqTz"
      },
      "outputs": [],
      "source": [
        "#Short Quiz\n",
        "\n",
        "#6. Children of node 16.                                                                #13, 6, 60\n",
        "#7. Parent of node 1.                                                                   #7\n",
        "#8. Siblings of 23.                                                                     #none\n",
        "#9. Ancestors of 9.                                                                     #4, 12, 7, 22\n",
        "#10. Descendants of 16.                                                                 #13, 23, 6, 60, 21\n",
        "#11. Leaves.                                                                            #23, 6, 21, 20, 9, 1\n",
        "#12. Non-leaves.                                                                        #4, 13, 60, 12, 16, 7, 22\n",
        "#13. Depth of node 4.                                                                   #3\n",
        "#14. Degree of the tree.                                                                #4\n",
        "#15. Height of the tree.                                                                #4\n",
        "#16. Weight of the tree.                                                                #6\n",
        "#17. Is the tree a binary tree?                                                         #no\n",
        "#18. Removing 6, is the tree a full binary tree?                                        #no\n",
        "#19. Removing 6, is the tree a complete binary tree?                                    #no\n",
        "#20. Is a full binary tree complete?                                                    #sometimes\n",
        "#21. Is a complete binary tree full?                                                    #always\n",
        "#22. How many leaves does a complete n-ary tree of height h have?                       #(n^h) leaves\n",
        "#23. What is the height of of a complete n-ary tree with m leaves?                      #(log(m)base n)\n",
        "#23. What is the number of internal nodes of a complete n-ary tree of height h?         #(n^0+n^1+n^2+...+n^h-1)\n",
        "#25. What is the total number of nodes a complete n-ary tree of height h have?          #(n^0+n^1+n^2+...+n^h)"
      ]
    }
  ]
}